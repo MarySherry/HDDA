{
 "cells": [
  {
   "cell_type": "markdown",
   "metadata": {},
   "source": [
    "# HDDA. Home Assignment 3"
   ]
  },
  {
   "cell_type": "markdown",
   "metadata": {},
   "source": [
    "## 1. Derivation of EM for FA recognition\n",
    "### Derive formulas of the model. Use latex notation to note them."
   ]
  },
  {
   "cell_type": "markdown",
   "metadata": {},
   "source": [
    "$$PDF(x) = \\mathcal{N}(\\mu, \\ AA^T + \\Psi)$$"
   ]
  },
  {
   "cell_type": "markdown",
   "metadata": {},
   "source": [
    "The model for $y$:\n",
    "$$p(y|\\theta) = \\int p(x|\\theta)p(y|x, \\theta)\\mathrm{d}x = N(0, AA^T + \\Psi)$$\n",
    "Model parameters: $\\theta = \\{A, \\Psi\\}$\n",
    "\n",
    "E step: For each data point $y_{n}$, compute the posterior distribution of hidden factors given the observed data: $q_{n}(x) = p(x|y_{n}, \\theta) = p(x, y_{n}|\\theta)/p(y_{n}|\\theta)$\n",
    "\n",
    "$$p(x, y_{n}) = p(x)p(y_{n}|x)$$\n",
    "$$= (2\\pi)^{-K/2}exp\\{−1/2x^Tx\\} |2π\\Psi|^{−1/2} exp\\{−1/2(y_{n} − Ax)^{T}\\Psi^{-1}(y_{n} − Ax)\\}$$\n",
    "$$= c × \\exp\\{−1/2[x^{T}x + (y_{n} − Ax)\\Psi^{−1}(y_{n} − Ax)]\\}$$\n",
    "$$= c’ × \\exp\\{−1/2[x^{T}(I + A^{T}\\Psi^{−1}A)x − 2x^{T}A^{T}\\Psi^{−1}y_{n}]\\}$$\n",
    "$$= c” × \\exp\\{−1/2[x^{T}Σ^{-1}x − 2x^{T}Σ^{-1}\\mu + \\mu^{T}Σ^{−1}\\mu]\\}$$\n",
    "\n",
    "So $Σ = (I + A^{T}\\Psi^{−1}A)^{−1} = I − \\beta A$ and $\\mu = ΣA^{T}\\Psi^{−1}y_{n} = \\beta y_{n}.$ Where $\\beta = ΣA^{T}\\Psi^{−1}.$ Note that $\\mu$ is a linear function of $y_{n}$ and $Σ$ does not depend on $y_{n}.$\n",
    "\n",
    "M step: Find the $\\theta_{t+1}$ that maximises $F(q, \\theta)$:\n",
    "$$F(q, \\theta) = \\sum\\int q_{n}(x)[\\log p(x|\\theta) + \\log p(y_{n}|x, \\theta) − \\log q_{n}(x)] \\mathrm{d}x$$\n",
    "$$=\\sum\\int q_{n}(x)[\\log p(x|\\theta) + \\log p(y_{n}|x, \\theta)] \\mathrm{d}x + c$$\n",
    "\n",
    "$$\\log p(x|\\theta)+ \\log p(y_{n}|x, \\theta) = c −1/2x^{T}x −1/2\\log |\\Psi| − 1/2(y_{n} − Ax)^{T}\\Psi^{−1}(y_{n} − Λx)$$\n",
    "$$= c’ −1/2\\log |\\Psi| − 1/2[y_{n}^{T}\\Psi^{−1}y_{n} − 2y_{n}^{T}\\Psi^{−1}Ax + x^{T}A^{T}\\Psi^{−1}Ax]$$\n",
    "$$= c’ −1/2\\log |\\Psi| − 1/2[y_{n}^{T}\\Psi^{−1}y_{n} − 2y_{n}^{T}\\Psi^{−1}Ax + Tr [A^{T}\\Psi^{−1}Axx^{T}]]$$\n",
    "$$= c’ −1/2\\log |\\Psi| − 1/2[y_{n}^{T}\\Psi^{−1}y_{n} − 2y_{n}^{T}\\Psi^{−1}A\\mu_{n} + Tr [A^{T}\\Psi^{−1}A(\\mu_{n}\\mu_{n}^{T} + Σ)]]$$\n",
    "\n",
    "$$F = c’ −N/2\\log |\\Psi| − 1/2\\sum[y_{n}^{T}\\Psi^{−1}y_{n} − 2y_{n}^{T}\\Psi^{−1}A\\mu_{n} + Tr [A^{T}\\Psi^{−1}A(\\mu_{n}\\mu_{n}^{T} + Σ)]]$$\n",
    "\n",
    "Taking derivatives w.r.t. $A$ and $\\Psi^{−1}$, using $\\frac{\\partial_{Tr} [AB]}{\\partial B}$  and $\\frac{\\partial \\log |A|}{\\partial A} = A^{-T}:$\n",
    "$$\\frac{\\partial F}{\\partial A} = \\Psi^{−1}\\sum y_{n}\\mu_{n}^{T} − \\Psi^{−1}A(NΣ + \\sum \\mu_{n}\\mu_{n}^{T}) = 0$$\n",
    "$$\\hat{A} = (\\sum y_{n}\\mu_{n}^{T})(NΣ + \\sum \\mu_{n}\\mu_{n}^{T})^{-1}$$\n",
    "$$\\frac{\\partial F}{\\partial \\Psi^{-1}} = N/2\\Psi − 1/2\\sum [y_{n}y_{n}^{T} − A\\mu_{n}y_{n}^{T} − y_{n}\\mu_{n}^{T}A + A(\\mu_{n}\\mu_{n}^{T} + Σ)A^{T}]$$\n",
    "$$\\hat{\\Psi} = 1/N\\sum [y_{n}y_{n}^{T} − A\\mu_{n}y_{n}^{T} − y_{n}\\mu_{n}^{T}A + A(\\mu_{n}\\mu_{n}^{T} + Σ)A^{T}]$$\n",
    "$$\\hat{\\Psi} = AΣA^{T} + 1/N\\sum(y_{n} − A\\mu_{n})(y_{n} − A\\mu_{n})^{T}$$"
   ]
  },
  {
   "cell_type": "markdown",
   "metadata": {},
   "source": [
    "## 2. FA recognitor Implementation \n",
    "### Implementation of derived formulas"
   ]
  },
  {
   "cell_type": "code",
   "execution_count": 1,
   "metadata": {},
   "outputs": [],
   "source": [
    "import numpy as np"
   ]
  },
  {
   "cell_type": "code",
   "execution_count": 2,
   "metadata": {},
   "outputs": [],
   "source": [
    "def model_initialization(X, factors):\n",
    "    Mean = np.mean(X, axis=0)\n",
    "    Cov = np.diag(np.diag(np.cov(np.transpose(X))))\n",
    "    phi = np.random.random_sample((100, factors))\n",
    "    return Mean, Cov, phi "
   ]
  },
  {
   "cell_type": "code",
   "execution_count": 3,
   "metadata": {},
   "outputs": [],
   "source": [
    "def factor_model_pdf(X, Cov, Mean):\n",
    "    Cov_total = np.matmul(phi,phi.transpose()) + Cov\n",
    "    pdf = np.zeros(len(X))\n",
    "    log_pdf = np.zeros(len(X))\n",
    "    for i in range(len(X)):\n",
    "        d = np.matmul((X[i] - Mean),(np.linalg.inv(Cov_total)))\n",
    "        d1 = np.matmul(d,((X[i] - Mean).transpose()))\n",
    "        pdf[i] = np.exp(-0.5*d1)\n",
    "    return pdf"
   ]
  },
  {
   "cell_type": "code",
   "execution_count": 4,
   "metadata": {},
   "outputs": [],
   "source": [
    "def e_step(factors, X, phi, Mean, Cov):\n",
    "    expectation_h = np.zeros((factors, len(X)))\n",
    "    expectation_h_ht = np.zeros((factors,factors, len(X)))\n",
    "    a = np.zeros((factors,factors, len(X)))\n",
    "\n",
    "    for i in range(len(X)):\n",
    "        temp1 = np.matmul(phi.transpose(),np.linalg.inv(Cov))\n",
    "        temp2 = np.matmul(temp1,phi) + np.eye(factors)\n",
    "        temp3 = np.matmul(np.matmul(np.linalg.inv(temp2),phi.transpose()), np.linalg.inv(Cov))\n",
    "        expectation_h[:,i] = np.matmul(temp3, ((X[i]- Mean).transpose()))\n",
    "        a[:,:,i] = expectation_h[:,i]*(expectation_h[:,i][np.newaxis]).transpose()\n",
    "        expectation_h_ht[:,:,i] = np.linalg.inv(temp2) + a[:,:,i]\n",
    "\n",
    "    return expectation_h, expectation_h_ht"
   ]
  },
  {
   "cell_type": "code",
   "execution_count": 5,
   "metadata": {},
   "outputs": [],
   "source": [
    "def m_step(factors, expectation_h, expectation_h_ht, Mean, X):\n",
    "    \n",
    "    sum_expectation = np.sum(expectation_h_ht, axis=2)\n",
    "\n",
    "    y = np.zeros((100, factors,len(X)))\n",
    "    for i in range(len(X)):\n",
    "        y[:,:,i] = np.matmul((X[i]-Mean)[np.newaxis].transpose(), (expectation_h[:,i][np.newaxis]))\n",
    "\n",
    "    new_phi = np.matmul((np.sum(y,axis=2)),np.linalg.inv(sum_expectation))\n",
    "\n",
    "    z = np.zeros((100,100,len(X)))\n",
    "    for i in range(len(X)):\n",
    "        b = (X[i]-Mean)[np.newaxis]\n",
    "        z_temp = np.matmul(new_phi, expectation_h[:,i])\n",
    "        z_temp2 = np.matmul(z_temp[np.newaxis].transpose(),b)\n",
    "        z[:,:,i] = b*b.transpose()-z_temp2\n",
    "\n",
    "    Cov_temp = np.sum(z,axis=2)\n",
    "    new_Cov = Cov_temp/(len(X))\n",
    "\n",
    "    phi = new_phi\n",
    "    Cov = new_Cov+(1000*np.eye(100))\n",
    "\n",
    "    return phi, Cov"
   ]
  },
  {
   "cell_type": "markdown",
   "metadata": {},
   "source": [
    "## 3. FA recognitor fitting\n",
    "\n",
    "### 3.1 Dataset\n",
    "\n",
    "In this work you work with [FDDB](http://vis-www.cs.umass.edu/fddb/).\n",
    "\n",
    "Dataset have already been prepared for you. Additional context about data preparation [here](http://vis-www.cs.umass.edu/fddb/README.txt).\n",
    "\n",
    "Detailed image info example:\n",
    "```\n",
    "$ identify face/0001.jpg\n",
    "\n",
    "> face/0001.jpg JPEG 10x10 10x10+0+0 8-bit sRGB 782B 0.000u 0:00.000\n",
    "\n",
    "```"
   ]
  },
  {
   "cell_type": "code",
   "execution_count": 6,
   "metadata": {},
   "outputs": [],
   "source": [
    "import cv2\n",
    "from os import listdir\n",
    "\n",
    "def extract(path):\n",
    "    data = [str(path)+'/'+f for f in listdir(path)]\n",
    "    res = []\n",
    "    for p in data:\n",
    "        image = cv2.imread(p)\n",
    "        res.append(cv2.cvtColor(image, cv2.COLOR_BGR2GRAY).flatten())\n",
    "    return res"
   ]
  },
  {
   "cell_type": "markdown",
   "metadata": {},
   "source": [
    "### 3.2 Model Fitting"
   ]
  },
  {
   "cell_type": "code",
   "execution_count": 7,
   "metadata": {},
   "outputs": [],
   "source": [
    "from sklearn.metrics import roc_curve\n",
    "from matplotlib import pyplot as plt"
   ]
  },
  {
   "cell_type": "code",
   "execution_count": 13,
   "metadata": {},
   "outputs": [
    {
     "name": "stdout",
     "output_type": "stream",
     "text": [
      "iter:  0\n",
      "iter:  1\n",
      "iter:  2\n",
      "iter:  3\n",
      "iter:  4\n",
      "iter:  5\n",
      "iter:  6\n",
      "iter:  7\n",
      "iter:  8\n",
      "iter:  9\n",
      "iter:  10\n",
      "iter:  11\n",
      "iter:  12\n",
      "iter:  13\n",
      "iter:  14\n",
      "iter:  15\n",
      "iter:  16\n",
      "iter:  17\n",
      "iter:  18\n",
      "iter:  19\n"
     ]
    }
   ],
   "source": [
    "### Set parameters of EM algorithm\n",
    "factors = 5\n",
    "iterations = 20\n",
    "\n",
    "faces = \"/home/mario/hdda/inno_hdda_fall/assignments/ha3/data/face\"\n",
    "non_faces = \"/home/mario/hdda/inno_hdda_fall/assignments/ha3/data/non_face\"\n",
    "\n",
    "### Use extract function to upload both datasets: FACES, NON_FACES\n",
    "faces_data = extract(faces)\n",
    "non_faces_data = extract(non_faces)\n",
    "### Split datasets into train/test\n",
    "train_faces = faces_data[:-100]\n",
    "train_non_faces = non_faces_data[:-100]\n",
    "test_faces = faces_data[-100:]\n",
    "test_non_faces = non_faces_data[-100:]\n",
    "\n",
    "faces_mean, faces_covariance, faces_param = model_initialization(train_faces, factors)\n",
    "non_faces_mean, non_faces_covariance, non_faces_param = model_initialization(train_non_faces, factors)\n",
    "\n",
    "for i in range(iterations):\n",
    "    if i < iterations:\n",
    "        print(\"iter: \", i)\n",
    "        expectation_h, expectation_h_ht = e_step(factors, train_faces, faces_param, faces_mean, faces_covariance)\n",
    "        phi, Cov = m_step(factors,expectation_h, expectation_h_ht, faces_mean, train_faces)\n",
    "\n",
    "        expectation_h_non, expectation_h_ht_non = e_step(factors, train_non_faces, non_faces_param, non_faces_mean, non_faces_covariance)\n",
    "        phi_non, Cov_non = m_step(factors, expectation_h_non, expectation_h_ht_non, non_faces_mean, train_non_faces)\n",
    "\n",
    "\n",
    "positive_likelihood_for_positive_test = factor_model_pdf(test_faces, Cov, faces_mean)\n",
    "negative_likelihood_for_positive_test = factor_model_pdf(test_faces, Cov_non, non_faces_mean)\n",
    "positive_likelihood_for_negative_test = factor_model_pdf(test_non_faces, Cov, faces_mean)\n",
    "negative_likelihood_for_negative_test = factor_model_pdf(test_non_faces, Cov_non, non_faces_mean)"
   ]
  },
  {
   "cell_type": "code",
   "execution_count": 14,
   "metadata": {},
   "outputs": [
    {
     "name": "stdout",
     "output_type": "stream",
     "text": [
      "correctly classified faces:  100\n",
      "correctly classified non-faces:  78\n",
      "False Positive Rate  0.22\n",
      "False Negative Rate  0.0\n",
      "Misclassification Rate 0.11\n"
     ]
    },
    {
     "data": {
      "image/png": "[encoded data removed]",
      "text/plain": [
       "<Figure size 432x288 with 1 Axes>"
      ]
     },
     "metadata": {},
     "output_type": "display_data"
    }
   ],
   "source": [
    "Mean_show=np.reshape(faces_mean,(10,10))\n",
    "cv2.imwrite('Mean_FA_face.jpg',Mean_show)\n",
    "\n",
    "Mean_show_non=np.reshape(non_faces_mean,(10,10))\n",
    "cv2.imwrite('Mean_FA_non.jpg',Mean_show_non)\n",
    "\n",
    "cv2.imwrite('Cov_FA_face.jpg',Cov)\n",
    "\n",
    "cv2.imwrite('Cov_FA_non.jpg',Cov_non)\n",
    "\n",
    "\n",
    "\n",
    "posterior_classified_face = positive_likelihood_for_positive_test/(positive_likelihood_for_positive_test + negative_likelihood_for_positive_test)\n",
    "posterior_classified_non_face = negative_likelihood_for_positive_test/(negative_likelihood_for_positive_test + positive_likelihood_for_positive_test)\n",
    "posterior_misclassified_non_face = positive_likelihood_for_negative_test/(positive_likelihood_for_negative_test + negative_likelihood_for_negative_test)\n",
    "posterior_misclassified_face = negative_likelihood_for_negative_test/(negative_likelihood_for_negative_test + positive_likelihood_for_negative_test)\n",
    "\n",
    "count = 0\n",
    "for i in range(len(posterior_classified_face)):\n",
    "    if posterior_classified_face[i] > posterior_classified_non_face[i]:\n",
    "        count=count+1\n",
    "print(\"correctly classified faces: \", count)\n",
    "count1 = 0\n",
    "for i in range(len(posterior_classified_face)):\n",
    "    if posterior_misclassified_face[i] > posterior_misclassified_non_face[i]:\n",
    "        count1=count1+1\n",
    "print(\"correctly classified non-faces: \", count1) \n",
    "count_false_positive = 0\n",
    "for i in range(len(posterior_classified_face)):\n",
    "    if posterior_misclassified_non_face[i]> 0.5:\n",
    "        count_false_positive=count_false_positive+1\n",
    "print(\"False Positive Rate \", count_false_positive/100)\n",
    "count_false_negative = 0\n",
    "for i in range(len(posterior_classified_face)):\n",
    "    if posterior_classified_non_face[i] > 0.5:\n",
    "        count_false_negative = count_false_negative + 1\n",
    "print(\"False Negative Rate \", count_false_negative/100) \n",
    "misclassification = (float(count_false_positive + count_false_negative)) / (len(posterior_classified_face) + len(posterior_classified_face))\n",
    "print(\"Misclassification Rate\", misclassification) \n",
    "\n",
    "\n",
    "posterior_classification = np.append(posterior_classified_face, (posterior_misclassified_non_face))\n",
    "labels = np.append(np.ones(100), np.zeros(100))\n",
    "\n",
    "fpr, tpr, _ = roc_curve(labels, posterior_classification, pos_label=1)\n",
    "plt.plot(fpr, tpr)\n",
    "plt.xlabel(\"FPR\")\n",
    "plt.ylabel(\"TPR\" )\n",
    "plt.xlim([-0.1,1.1])\n",
    "plt.ylim([-0.1,1.1])\n",
    "plt.show()"
   ]
  },
  {
   "cell_type": "markdown",
   "metadata": {},
   "source": [
    "### Grading part"
   ]
  },
  {
   "cell_type": "code",
   "execution_count": 10,
   "metadata": {},
   "outputs": [],
   "source": [
    "### MY CODE HERE"
   ]
  }
 ],
 "metadata": {
  "kernelspec": {
   "display_name": "Python 3",
   "language": "python",
   "name": "python3"
  },
  "language_info": {
   "codemirror_mode": {
    "name": "ipython",
    "version": 3
   },
   "file_extension": ".py",
   "mimetype": "text/x-python",
   "name": "python",
   "nbconvert_exporter": "python",
   "pygments_lexer": "ipython3",
   "version": "3.6.8"
  }
 },
 "nbformat": 4,
 "nbformat_minor": 2
}
